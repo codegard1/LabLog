{
    "metadata": {
        "kernelspec": {
            "name": "SQL",
            "display_name": "SQL",
            "language": "sql"
        },
        "language_info": {
            "name": "sql",
            "version": ""
        }
    },
    "nbformat_minor": 2,
    "nbformat": 4,
    "cells": [
        {
            "cell_type": "code",
            "source": [
                "SET ANSI_NULLS ON"
            ],
            "metadata": {
                "azdata_cell_guid": "9d18a1ba-07b3-4de9-9893-6886db998d5f"
            },
            "outputs": [],
            "execution_count": null
        },
        {
            "cell_type": "code",
            "source": [
                "SET QUOTED_IDENTIFIER ON"
            ],
            "metadata": {
                "azdata_cell_guid": "8d1dfada-b4d6-4e9b-83e1-d6f5ffc186fb"
            },
            "outputs": [],
            "execution_count": null
        },
        {
            "cell_type": "code",
            "source": [
                "DROP VIEW IF EXISTS [dbo].[ParseFields]"
            ],
            "metadata": {
                "azdata_cell_guid": "a876be6e-07fa-4e84-8b35-e9cf176ca01a"
            },
            "outputs": [],
            "execution_count": null
        },
        {
            "cell_type": "code",
            "source": [
                "CREATE VIEW [dbo].[ParseFields]\n",
                "AS\n",
                "Select \n",
                "    A.Id\n",
                "    -- ,B.RetSeq\n",
                "    -- ,B.RetVal\n",
                "    -- , B.*\n",
                "    -- , C.Pos6 AS 'Level'\n",
                "    , C.Pos3 AS 'Category'\n",
                "    , C.Pos5 AS 'TimeStamp'\n",
                "    , C.Pos6 AS 'EventID'\n",
                "    , C.Pos7 AS 'Windows Log'\n",
                "    , C.Pos10 AS 'Short Message'\n",
                "    , C.Pos11 AS 'Host Name'\n",
                "    , C.Pos13 AS 'Message Subject'\n",
                "From dbo.Logs1 A\n",
                " Cross Apply [dbo].[udf-Str-Parse](A.Message,char(13)) B\n",
                " Cross Apply [dbo].[udf-Str-Parse-Row](B.RetVal,char(9)) C\n",
                "Where B.RetVal is not null and B.RetSeq = 1"
            ],
            "metadata": {
                "azdata_cell_guid": "20439dcc-5239-4aad-a9b4-2690a2cc645b"
            },
            "outputs": [],
            "execution_count": null
        },
        {
            "cell_type": "code",
            "source": [
                "IF OBJECT_ID('[dbo].[ParsedFieldValues]', 'U') IS NOT NULL\n",
                "DROP TABLE [dbo].[ParsedFieldValues]"
            ],
            "metadata": {
                "azdata_cell_guid": "f1bf331b-5c5f-43e7-84d6-9b0dc7895be9"
            },
            "outputs": [],
            "execution_count": null
        },
        {
            "cell_type": "code",
            "source": [
                "CREATE TABLE [dbo].[ParsedFieldValues]\n",
                "(\n",
                "      [Id] INT NOT NULL PRIMARY KEY\n",
                "    , [Category] NVARCHAR(255) NOT NULL\n",
                "    , [TimeStamp] NVARCHAR(255) NOT NULL\n",
                "    , [EventID] INT NOT NULL\n",
                "    , [Windows Log] NVARCHAR(255) NOT NULL\n",
                "    , [Short Message] NVARCHAR(255) NULL\n",
                "    , [Host Name] NVARCHAR(255) NOT NULL\n",
                "    , [Message Subject] NVARCHAR(255) NOT NULL\n",
                ");"
            ],
            "metadata": {
                "azdata_cell_guid": "893189a5-6848-4301-b3b0-fe6413f71ca2"
            },
            "outputs": [],
            "execution_count": null
        },
        {
            "cell_type": "code",
            "source": [
                "CREATE NONCLUSTERED INDEX\n",
                "    ID_Category\n",
                "    ON [LabLog].[dbo].[ParsedFieldValues] ([Category])"
            ],
            "metadata": {
                "azdata_cell_guid": "b7c856d9-cf7f-4592-81f9-68d26b1238d8"
            },
            "outputs": [],
            "execution_count": null
        },
        {
            "cell_type": "code",
            "source": [
                "CREATE NONCLUSTERED INDEX\n",
                "    ID_HostName\n",
                "    ON [LabLog].[dbo].[ParsedFieldValues] ([Host Name])"
            ],
            "metadata": {
                "azdata_cell_guid": "3d7334e6-8cb0-48e0-8c03-688457a3cc1f"
            },
            "outputs": [],
            "execution_count": null
        },
        {
            "cell_type": "code",
            "source": [
                "CREATE NONCLUSTERED INDEX\n",
                "    ID_WindowsLog\n",
                "    ON [LabLog].[dbo].[ParsedFieldValues] ([Windows Log])"
            ],
            "metadata": {
                "azdata_cell_guid": "2154595c-179e-4ae3-a861-9f44e4d0d771"
            },
            "outputs": [],
            "execution_count": null
        },
        {
            "cell_type": "code",
            "source": [
                "CREATE NONCLUSTERED INDEX\n",
                "    ID_EventID\n",
                "    ON [LabLog].[dbo].[ParsedFieldValues] ([EventID])"
            ],
            "metadata": {
                "azdata_cell_guid": "7a0258da-e050-47fa-ae9e-e858dcd143ca"
            },
            "outputs": [],
            "execution_count": null
        },
        {
            "cell_type": "code",
            "source": [
                "CREATE NONCLUSTERED INDEX\n",
                "    ID_ShortMessage\n",
                "    ON [LabLog].[dbo].[ParsedFieldValues] ([Short Message])"
            ],
            "metadata": {
                "azdata_cell_guid": "2776b2ea-cfa3-40a1-b2da-5dbe6c7ae4c2"
            },
            "outputs": [],
            "execution_count": null
        },
        {
            "cell_type": "code",
            "source": [
                "TRUNCATE TABLE dbo.ParsedFieldValues"
            ],
            "metadata": {
                "azdata_cell_guid": "a0af9788-f93a-4d3e-bd1c-a3b01dcbcbec"
            },
            "outputs": [],
            "execution_count": null
        },
        {
            "cell_type": "code",
            "source": [
                "INSERT INTO dbo.ParsedFieldValues\n",
                "SELECT \n",
                "  [Id] \n",
                ", [Category] \n",
                ", [TimeStamp]\n",
                ", CONVERT(INT, [EventID]) as 'EventID'\n",
                ", [Windows Log]\n",
                ", [Short Message]\n",
                ", [Host Name]\n",
                ", [Message Subject]\n",
                "FROM dbo.ParseFields"
            ],
            "metadata": {
                "azdata_cell_guid": "7ebbec12-4864-4f37-bac7-144d56a15f60"
            },
            "outputs": [],
            "execution_count": null
        },
        {
            "cell_type": "code",
            "source": [
                "MERGE dbo.ParsedFieldValues t\n",
                "USING dbo.ParseFields s\n",
                "ON (t.[Id] = s.[Id])\n",
                "WHEN MATCHED\n",
                "    THEN UPDATE \n",
                "        SET \n",
                "      t.[Category] = s.[Category]\n",
                "    , t.[TimeStamp] = s.[TimeStamp]\n",
                "    , t.[EventID] = s.[EventID]\n",
                "    , t.[Windows Log] = s.[Windows Log]\n",
                "    , t.[Short Message] = s.[Short Message]\n",
                "    , t.[Host Name] = s.[Host Name]\n",
                "    , t.[Message Subject] = s.[Message Subject]\n",
                "WHEN NOT MATCHED BY TARGET\n",
                "    THEN INSERT (\n",
                "      [Id] \n",
                "    , [Category] \n",
                "    , [TimeStamp] \n",
                "    , [EventID] \n",
                "    , [Windows Log]\n",
                "    , [Short Message]\n",
                "    , [Host Name]\n",
                "    , [Message Subject]\n",
                "    ) \n",
                "    VALUES (\n",
                "      s.[Id] \n",
                "    , s.[Category] \n",
                "    , s.[TimeStamp] \n",
                "    , s.[EventID] \n",
                "    , s.[Windows Log]\n",
                "    , s.[Short Message]\n",
                "    , s.[Host Name]\n",
                "    , s.[Message Subject]\n",
                "    )\n",
                "WHEN NOT MATCHED BY SOURCE \n",
                "THEN DELETE;"
            ],
            "metadata": {
                "azdata_cell_guid": "d83d6c8b-af5d-4647-b989-1bb989967ffd"
            },
            "outputs": [],
            "execution_count": null
        }
    ]
}