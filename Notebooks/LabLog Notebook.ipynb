{
    "metadata": {
        "kernelspec": {
            "name": "SQL",
            "display_name": "SQL",
            "language": "sql"
        },
        "language_info": {
            "name": "sql",
            "version": ""
        }
    },
    "nbformat_minor": 2,
    "nbformat": 4,
    "cells": [
        {
            "cell_type": "markdown",
            "source": [
                "## Goal: populate a table with the parsed field values of LabLog\n",
                "\n",
                "- Implent this using a stored procedure and functions(?)"
            ],
            "metadata": {
                "azdata_cell_guid": "20a3e2ee-5c0a-461b-8d94-88b2bdb14018"
            }
        },
        {
            "cell_type": "markdown",
            "source": [
                "## Parsing Functions\n",
                "\n",
                "- \\[udf-Str-Parse-Row\\]\n",
                "    \n",
                "- \\[dbo\\].\\[udf-Str-Parse\\]"
            ],
            "metadata": {
                "azdata_cell_guid": "33941da5-5776-4df7-afdc-44a726041581"
            }
        },
        {
            "cell_type": "code",
            "source": [
                "CREATE FUNCTION [dbo].[udf-Str-Parse] (@String varchar(max), @Delimiter varchar(10))\r\n",
                "Returns Table \r\n",
                "WITH SCHEMABINDING\r\n",
                "As\r\n",
                "Return (  \r\n",
                "    Select RetSeq = Row_Number() over (Order By (Select null))\r\n",
                "          , RetVal = LTrim(RTrim(B.i.value('(./text())[1]', 'varchar(max)')))\r\n",
                "From (Select x = Cast('<x>' + replace((Select replace(@String,@Delimiter,'§§Split§§') as [*]\r\n",
                "        For XML Path('')),'§§Split§§','</x><x>')+'</x>' as xml).query('.')) as A \r\n",
                "    Cross Apply x.nodes('x') AS B(i)\r\n",
                ");\r\n",
                "\r\n",
                "GO"
            ],
            "metadata": {
                "azdata_cell_guid": "b39fe280-4551-4a19-bb0b-6a1ff071e396",
                "tags": [
                    "hide_input"
                ]
            },
            "outputs": [],
            "execution_count": null
        },
        {
            "cell_type": "code",
            "source": [
                "CREATE FUNCTION [dbo].[udf-Str-Parse-Row] (@String varchar(max),@Delimiter varchar(10))\r\n",
                "Returns Table \r\n",
                "WITH SCHEMABINDING\r\n",
                "As\r\n",
                "Return (\r\n",
                "    Select \r\n",
                "          Pos1 = ltrim(rtrim(xDim.value('/x[1]','varchar(255)')))\r\n",
                "        , Pos2 = ltrim(rtrim(xDim.value('/x[2]','varchar(255)')))\r\n",
                "        , Pos3 = ltrim(rtrim(xDim.value('/x[3]','varchar(255)')))\r\n",
                "        , Pos4 = ltrim(rtrim(xDim.value('/x[4]','varchar(255)')))\r\n",
                "        , Pos5 = ltrim(rtrim(xDim.value('/x[5]','varchar(255)')))\r\n",
                "        , Pos6 = ltrim(rtrim(xDim.value('/x[6]','varchar(255)')))\r\n",
                "        , Pos7 = ltrim(rtrim(xDim.value('/x[7]','varchar(255)')))\r\n",
                "        , Pos8 = ltrim(rtrim(xDim.value('/x[8]','varchar(255)')))\r\n",
                "        , Pos9 = ltrim(rtrim(xDim.value('/x[9]','varchar(255)')))\r\n",
                "        , Pos10 = ltrim(rtrim(xDim.value('/x[10]','varchar(255)')))\r\n",
                "        , Pos11 = ltrim(rtrim(xDim.value('/x[11]','varchar(255)')))\r\n",
                "        , Pos12 = ltrim(rtrim(xDim.value('/x[12]','varchar(255)')))\r\n",
                "        , Pos13 = ltrim(rtrim(xDim.value('/x[13]','varchar(255)')))\r\n",
                "    From  (Select Cast('<x>' + replace((Select replace(@String,@Delimiter,'§§Split§§') as [*] For XML Path('')),'§§Split§§','</x><x>')+'</x>' as xml) as xDim) as A \r\n",
                ")\r\n",
                "\r\n",
                "GO"
            ],
            "metadata": {
                "azdata_cell_guid": "c48b0155-8797-4588-aabd-89513c379489",
                "tags": [
                    "hide_input"
                ]
            },
            "outputs": [],
            "execution_count": null
        },
        {
            "cell_type": "markdown",
            "source": [
                "## Example Usage\n",
                "\n",
                "- Create a view of parsed row data\n",
                "\n",
                "### Example of a message\n",
                "\n",
                "<span style=\"color: #657b83;font-style: italic;\">Col Content</span>\n",
                "\n",
                "<span style=\"color: #657b83;font-style: italic;\">1&nbsp; Nov&nbsp;19&nbsp;11:28:17&nbsp;DC2.stern.com&nbsp;MSWinEventLog&nbsp;&nbsp;&nbsp;&nbsp;</span> \n",
                "\n",
                "<span style=\"color: #657b83;font-style: italic;\">2&nbsp; 5&nbsp;&nbsp;</span> \n",
                "\n",
                "<span style=\"color: #657b83;font-style: italic;\">3&nbsp;</span> <span style=\"color: rgb(101, 123, 131); font-style: italic;\">Security&nbsp;&nbsp;&nbsp;</span> \n",
                "\n",
                "<span style=\"color: #657b83;font-style: italic;\">4&nbsp;</span> <span style=\"color: rgb(101, 123, 131); font-style: italic;\">22418&nbsp;&nbsp;</span> \n",
                "\n",
                "<span style=\"color: #657b83;font-style: italic;\">5&nbsp;</span> <span style=\"color: rgb(101, 123, 131); font-style: italic;\">Thu&nbsp;Nov&nbsp;19&nbsp;11:28:10&nbsp;2020&nbsp;&nbsp;&nbsp;</span> \n",
                "\n",
                "<span style=\"color: #657b83;font-style: italic;\">6&nbsp;</span> <span style=\"color: rgb(101, 123, 131); font-style: italic;\">4634&nbsp;&nbsp;&nbsp;</span> \n",
                "\n",
                "<span style=\"color: #657b83;font-style: italic;\">7&nbsp;</span> <span style=\"color: rgb(101, 123, 131); font-style: italic;\">Microsoft-Windows-Security-Auditing&nbsp;&nbsp;&nbsp;&nbsp;&nbsp;&nbsp;&nbsp;&nbsp;</span> \n",
                "\n",
                "<span style=\"color: #657b83;font-style: italic;\">8&nbsp;</span> <span style=\"color: rgb(101, 123, 131); font-style: italic;\">N/A&nbsp;&nbsp;&nbsp;&nbsp;</span> \n",
                "\n",
                "<span style=\"color: #657b83;font-style: italic;\">9&nbsp;</span> <span style=\"color: rgb(101, 123, 131); font-style: italic;\">Audit&nbsp;Success&nbsp;&nbsp;</span> \n",
                "\n",
                "<span style=\"color: #657b83;font-style: italic;\">10</span> <span style=\"color: rgb(101, 123, 131); font-style: italic;\">&nbsp;DC2.stern.com&nbsp;</span> \n",
                "\n",
                "<span style=\"color: #657b83;font-style: italic;\">11</span> <span style=\"color: rgb(101, 123, 131); font-style: italic;\">&nbsp;12545&nbsp;</span> \n",
                "\n",
                "<span style=\"color: #657b83;font-style: italic;\">12</span> <span style=\"color: rgb(101, 123, 131); font-style: italic;\">&nbsp;An&nbsp;account&nbsp;was&nbsp;logged&nbsp;off.Subject:&nbsp;&nbsp;&nbsp;&nbsp;</span>"
            ],
            "metadata": {
                "azdata_cell_guid": "d28253ad-0796-4d15-9c2d-807a53d7759b"
            }
        },
        {
            "cell_type": "code",
            "source": [
                "USE LabLog;\r\n",
                "GO\r\n",
                "\r\n",
                "CREATE VIEW dbo.ParseFields\r\n",
                "AS\r\n",
                "\r\n",
                "Select TOP 100\r\n",
                "    A.Id\r\n",
                "    -- ,B.RetSeq\r\n",
                "    -- ,B.RetVal\r\n",
                "    -- , B.*\r\n",
                "    -- , C.Pos6 AS 'Level'\r\n",
                "    , C.Pos3 AS 'Category'\r\n",
                "    , C.Pos5 AS 'TimeStamp'\r\n",
                "    , C.Pos6 AS 'EventID'\r\n",
                "    , C.Pos7 AS 'Windows Log'\r\n",
                "    , C.Pos10 AS 'Short Message'\r\n",
                "    , C.Pos11 AS 'Host Name'\r\n",
                "    , C.Pos13 AS 'Message Subject'\r\n",
                "From dbo.Logs1 A\r\n",
                " Cross Apply [dbo].[udf-Str-Parse](A.Message,char(13)) B\r\n",
                " Cross Apply [dbo].[udf-Str-Parse-Row](B.RetVal,char(9)) C\r\n",
                "Where B.RetVal is not null and B.RetSeq = 1\r\n",
                "\r\n",
                "GO"
            ],
            "metadata": {
                "azdata_cell_guid": "084aa23f-e2ef-4d03-a269-29e793637214",
                "tags": []
            },
            "outputs": [],
            "execution_count": null
        }
    ]
}